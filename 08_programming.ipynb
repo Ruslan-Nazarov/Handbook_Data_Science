{
 "cells": [
  {
   "cell_type": "code",
   "execution_count": 1,
   "metadata": {},
   "outputs": [],
   "source": [
    "# March 2022\n",
    "\n",
    "# for communication\n",
    "\n",
    "# twitter https://twitter.com/runaz_there"
   ]
  },
  {
   "cell_type": "markdown",
   "metadata": {},
   "source": [
    "# Программирование на языке Python"
   ]
  },
  {
   "cell_type": "markdown",
   "metadata": {},
   "source": [
    "Материал в этой главе основан на онлайн-учебнике [Composing Programs](https://composingprograms.com/). Дополнительно по программированию на Python могу порекомендовать сайт [Real Python](https://realpython.com/). \n",
    "\n",
    "Ниже я собрал только те соображения и код из учебника, которые, на мой взгляд, будут полезны для применения Python для статистических исследований, машинного обучения. Код, как правило, взят непосредственно из книги, у меня не было цели \"привязать\" код к исследованию данных Goodreads.\n",
    "\n",
    "Начать стоит, пожалуй, вот с этой [цитаты](https://composingprograms.com/pages/11-getting-started.html):\n",
    "\n",
    "\"The fundamental equation of computers is:\n",
    "\n",
    "computer = powerful + stupid\n",
    "\n",
    "Computers are very powerful, looking at volumes of data very quickly. Computers can perform billions of operations per second, where each operation is pretty simple.\n",
    "\n",
    "Computers are also shockingly stupid and fragile. The operations that they can do are extremely rigid, simple, and mechanical. The computer lacks anything like real insight ... it's nothing like the HAL 9000 from the movies. If nothing else, you should not be intimidated by the computer as if it's some sort of brain. It's very mechanical underneath it all.\n",
    "\n",
    "Programming is about a person using their real insight to build something useful, constructed out of these teeny, simple little operations that the computer can do.\""
   ]
  },
  {
   "cell_type": "code",
   "execution_count": 2,
   "metadata": {},
   "outputs": [],
   "source": [
    "from urllib.request import urlopen\n",
    "from math import pi"
   ]
  },
  {
   "cell_type": "markdown",
   "metadata": {},
   "source": [
    "Немного про программирование. Элементы языка программирования, базовые концепции: выражения и операторы; функции; объекты; интерпретаторы.\n",
    "\n",
    "По большому счету компьютерная программа:\n",
    "\n",
    "1. либо вычисляет какое-либо значение;\n",
    "2. либо выполняет какое-либо действие.\n",
    "\n",
    "Поэтому код на Python состоит либо из выражений, либо из операторов. Как правило, выражения описывают вычисление, а операторы описывают выполнение какого-либо действия. \n",
    "\n",
    "Вот оператор присваивания.\n"
   ]
  },
  {
   "cell_type": "code",
   "execution_count": 3,
   "metadata": {},
   "outputs": [
    {
     "data": {
      "text/plain": [
       "<http.client.HTTPResponse at 0x1e5354e2bb0>"
      ]
     },
     "execution_count": 3,
     "metadata": {},
     "output_type": "execute_result"
    }
   ],
   "source": [
    "shakespeare = urlopen('http://composingprograms.com/shakespeare.txt')\n",
    "shakespeare"
   ]
  },
  {
   "cell_type": "markdown",
   "metadata": {},
   "source": [
    "Функция - это такой элемент языка, который как бы собирает под одной оболочкой множество команд, которые надо выполнить. Применительно к функциям важно помнить, что они выпоняются последовательно. Ниже пример.\n",
    "\n",
    "Важные мысли\n",
    "\n",
    "1. Язык служит для фреймворком для организации идей о том, как произвести вычисления.\n",
    "2. Программы пишутся прежде всего для людей, а уже затем для компьютеров.\n",
    "\n",
    "Таким образом можно перейти от простых идей ко все более сложным. Поэтому любой язык программирования должен обеспечивать три механизма:\n",
    "\n",
    "1. примитивные выражения и утверждения (expressions and statements), которые являются простейшими блоками;\n",
    "2. инструменты комбинирования, с помошью которых объединяются различные элементарные блоки;\n",
    "3. инструменты абстрагирования, с помощью которых можно работать с объединененными блоками как с единым целым, как с элементарным блоком. \n",
    "\n",
    "Поэтому, повторюсь, в программировании два основных элемента это функции и данные. "
   ]
  },
  {
   "cell_type": "code",
   "execution_count": 4,
   "metadata": {},
   "outputs": [
    {
     "data": {
      "text/plain": [
       "42"
      ]
     },
     "execution_count": 4,
     "metadata": {},
     "output_type": "execute_result"
    }
   ],
   "source": [
    "# выражение (expressions)\n",
    "42"
   ]
  },
  {
   "cell_type": "markdown",
   "metadata": {},
   "source": [
    "Выражения могут объединяться, тогда получится compound expression. У таких выражений есть несколько подвидов, самый важный - это call expression."
   ]
  },
  {
   "cell_type": "code",
   "execution_count": 5,
   "metadata": {},
   "outputs": [
    {
     "data": {
      "text/plain": [
       "8.6"
      ]
     },
     "execution_count": 5,
     "metadata": {},
     "output_type": "execute_result"
    }
   ],
   "source": [
    "# пример выражения call expression\n",
    "max(7.5, 8.6)"
   ]
  },
  {
   "cell_type": "markdown",
   "metadata": {},
   "source": [
    "Здесь max это operator, а числа в скобках это operand. Оператор задает функцию. Функция max вызывается с аргументами-числами, и возвращает значение."
   ]
  },
  {
   "cell_type": "code",
   "execution_count": 6,
   "metadata": {},
   "outputs": [
    {
     "data": {
      "text/plain": [
       "-2"
      ]
     },
     "execution_count": 6,
     "metadata": {},
     "output_type": "execute_result"
    }
   ],
   "source": [
    "# вложенные функции\n",
    "max(min(1, -2), min(pow(3, 5), -4))"
   ]
  },
  {
   "cell_type": "code",
   "execution_count": 7,
   "metadata": {},
   "outputs": [],
   "source": [
    "words = set(shakespeare.read().decode().split())"
   ]
  },
  {
   "cell_type": "markdown",
   "metadata": {},
   "source": [
    "Что здесь происходит?\n",
    "\n",
    "Машина читает текст, декодирует его, разбивает на элементы, а затем все это помещает в множество.\n",
    "\n",
    "Объекты - это не только списки, множества, кортежи, словари, но и все другое.\n",
    "\n",
    "Интерпретаторы - это программы, которые способны интерпретировать язык программирования. \n",
    "\n",
    "Указанное деление относительно. Функции - это объекты, объекты - функции, все вместе - интерпретаторы. "
   ]
  },
  {
   "cell_type": "code",
   "execution_count": 8,
   "metadata": {},
   "outputs": [],
   "source": [
    "# важный способ присвоения значений\n",
    "radius = 10\n",
    "area, circumference = pi * radius * radius, 2 * pi * radius"
   ]
  },
  {
   "cell_type": "markdown",
   "metadata": {},
   "source": [
    "Принципы для хорошей функциии:\n",
    "\n",
    "\"Each function should have exactly one job. That job should be identifiable with a short name and characterizable in a single line of text. Functions that perform multiple jobs in sequence should be divided into multiple functions.\n",
    "Don't repeat yourself is a central tenet of software engineering. The so-called DRY principle states that multiple fragments of code should not describe redundant logic. Instead, that logic should be implemented once, given a name, and applied multiple times. If you find yourself copying and pasting a block of code, you have probably found an opportunity for functional abstraction.\n",
    "Functions should be defined generally. Squaring is not in the Python Library precisely because it is a special case of the pow function, which raises numbers to arbitrary powers\".\n",
    "\n",
    "Официальные требования к описанию функций [см. здесь](https://www.python.org/dev/peps/pep-0257/)"
   ]
  },
  {
   "cell_type": "markdown",
   "metadata": {},
   "source": [
    "Код - это последовательность инструкций. Такие инструкции могут быть элементарными, а могут быть составными. "
   ]
  },
  {
   "cell_type": "code",
   "execution_count": 9,
   "metadata": {},
   "outputs": [],
   "source": [
    "# в return можно задавать инструкцию\n",
    "# а не просто возвращать значение\n",
    "def percent_difference(x, y):\n",
    "\t    difference = abs(x-y)\n",
    "\t    return 100 * difference / x\n",
    "result = percent_difference(40, 50)\n"
   ]
  },
  {
   "cell_type": "code",
   "execution_count": 10,
   "metadata": {},
   "outputs": [
    {
     "name": "stdout",
     "output_type": "stream",
     "text": [
      "2\n"
     ]
    }
   ],
   "source": [
    "# пример на функцию и условный оператор\n",
    "def absolute_value(x):\n",
    "    if x > 0:\n",
    "        return x\n",
    "    elif x == 0:\n",
    "\t    return 0\n",
    "    else:\n",
    "        return -x\n",
    "\t\n",
    "result = absolute_value(-2)\n",
    "print(result)"
   ]
  },
  {
   "cell_type": "code",
   "execution_count": 11,
   "metadata": {},
   "outputs": [],
   "source": [
    "# пример на цикл \n",
    "def fib(n):\n",
    "    pred, curr = 0, 1\n",
    "    k = 2\n",
    "    while k < n:\n",
    "        pred, curr = curr, pred + curr\n",
    "        k = k + 1\n",
    "    return curr\n",
    "\t\n",
    "result = fib(8)"
   ]
  },
  {
   "cell_type": "markdown",
   "metadata": {},
   "source": [
    "Лямбда функция может быть понята по следующему примеру:\n",
    "\n",
    "lambda x: f(g(x))\n",
    "\n",
    "\"A function that takes x and returns f(g(x))\".\n",
    "\n",
    "Такая функция не имеет имени. В языке Python предпочтительным считается использование явного задания функции с помощью def. Однако для простых, коротких функций? допускается также использование лямбда функции."
   ]
  },
  {
   "cell_type": "code",
   "execution_count": 12,
   "metadata": {},
   "outputs": [
    {
     "data": {
      "text/plain": [
       "144"
      ]
     },
     "execution_count": 12,
     "metadata": {},
     "output_type": "execute_result"
    }
   ],
   "source": [
    "# пример лямбда-функции\n",
    "s = lambda x: x * x\n",
    "s(12)"
   ]
  },
  {
   "cell_type": "code",
   "execution_count": 13,
   "metadata": {},
   "outputs": [
    {
     "data": {
      "text/plain": [
       "<function __main__.trace.<locals>.wrapped(x)>"
      ]
     },
     "execution_count": 13,
     "metadata": {},
     "output_type": "execute_result"
    }
   ],
   "source": [
    "# декораторы\n",
    "def trace(fn):\n",
    "    def wrapped(x):\n",
    "        print('->', fn, '(', x,')')\n",
    "        return fn(x)\n",
    "    return wrapped\n",
    "\n",
    "trace(5)"
   ]
  },
  {
   "cell_type": "code",
   "execution_count": 14,
   "metadata": {},
   "outputs": [],
   "source": [
    "@trace\n",
    "def triple(x):\n",
    "    return 3 * x"
   ]
  },
  {
   "cell_type": "code",
   "execution_count": 15,
   "metadata": {},
   "outputs": [
    {
     "name": "stdout",
     "output_type": "stream",
     "text": [
      "-> <function triple at 0x000001E535503820> ( 12 )\n"
     ]
    },
    {
     "data": {
      "text/plain": [
       "36"
      ]
     },
     "execution_count": 15,
     "metadata": {},
     "output_type": "execute_result"
    }
   ],
   "source": [
    "triple(12)"
   ]
  },
  {
   "cell_type": "markdown",
   "metadata": {},
   "source": [
    "Что здесь происходит? Беру функцию triple и передаю ей аргумент 12. Функция triple должна вернуть 36, но вместо этого она передает свой результат в функцию trace, которая как бы \"обертывает\" функцию triple. В результате в функцию trace передается значение 36 как результат функции triple и 12 как аргумент x, общий для triple и trace.\n",
    "\n",
    "Чтобы лучше это понять, надо посмотреть на код ниже."
   ]
  },
  {
   "cell_type": "code",
   "execution_count": 16,
   "metadata": {},
   "outputs": [],
   "source": [
    "def triple(x):\n",
    "    return 3 * x\n",
    "\n",
    "triple = trace(triple)"
   ]
  },
  {
   "cell_type": "markdown",
   "metadata": {},
   "source": [
    "# Рекурсивные функции"
   ]
  },
  {
   "cell_type": "markdown",
   "metadata": {},
   "source": [
    "Вот какое определение дано в учебнике: \"Функция называется рекурсивной, если тело функции вызывает саму функцию прямо или косвенно. То есть процесс выполнения тела рекурсивной функции, в свою очередь, может потребовать повторного применения этой функции.\".\n",
    "\n",
    "Ниже приведен пример такой функции. Задача в том, чтобы просуммировать цифры натурального числа. "
   ]
  },
  {
   "cell_type": "code",
   "execution_count": 17,
   "metadata": {},
   "outputs": [
    {
     "data": {
      "text/plain": [
       "7"
      ]
     },
     "execution_count": 17,
     "metadata": {},
     "output_type": "execute_result"
    }
   ],
   "source": [
    "# оставля. только последнюю цифру\n",
    "18117 % 10"
   ]
  },
  {
   "cell_type": "code",
   "execution_count": 18,
   "metadata": {},
   "outputs": [
    {
     "data": {
      "text/plain": [
       "1811"
      ]
     },
     "execution_count": 18,
     "metadata": {},
     "output_type": "execute_result"
    }
   ],
   "source": [
    "# оставля. все цифры, кроме последней\n",
    "18117 // 10"
   ]
  },
  {
   "cell_type": "code",
   "execution_count": 19,
   "metadata": {},
   "outputs": [],
   "source": [
    "def sum_digits(n):\n",
    "    if n < 10:\n",
    "        return n\n",
    "    else:\n",
    "        all_but_last, last = n // 10, n % 10\n",
    "        return sum_digits(all_but_last) + last"
   ]
  },
  {
   "cell_type": "markdown",
   "metadata": {},
   "source": [
    "Что здесь происходит? Условие под if устанавливает, что если цифра меньше 10, то его сумма будет равна такой цифре. Например, для 9 сумма будет 9. \n",
    "\n",
    "Под else стоит оператор присвоения. all_but_last - это все цифры, кроме последней, например 738. last - это последняя цифра. Функция возвращает сумму самой себя с аргументом all_but_last и последней цифры. Вот как это работает."
   ]
  },
  {
   "cell_type": "code",
   "execution_count": 20,
   "metadata": {},
   "outputs": [
    {
     "data": {
      "text/plain": [
       "7"
      ]
     },
     "execution_count": 20,
     "metadata": {},
     "output_type": "execute_result"
    }
   ],
   "source": [
    "7 % 10"
   ]
  },
  {
   "cell_type": "code",
   "execution_count": 21,
   "metadata": {},
   "outputs": [
    {
     "data": {
      "text/plain": [
       "7"
      ]
     },
     "execution_count": 21,
     "metadata": {},
     "output_type": "execute_result"
    }
   ],
   "source": [
    "# если цифра одна\n",
    "sum_digits(7)"
   ]
  },
  {
   "cell_type": "code",
   "execution_count": 22,
   "metadata": {},
   "outputs": [
    {
     "data": {
      "text/plain": [
       "18"
      ]
     },
     "execution_count": 22,
     "metadata": {},
     "output_type": "execute_result"
    }
   ],
   "source": [
    "# если 18117\n",
    "sum_digits(738)"
   ]
  },
  {
   "cell_type": "code",
   "execution_count": 23,
   "metadata": {},
   "outputs": [],
   "source": [
    "def sum_digits(n):\n",
    "    if n < 10:\n",
    "        return n\n",
    "    else:\n",
    "        all_but_last, last = n // 10, n % 10\n",
    "        return sum_digits(all_but_last) + last"
   ]
  },
  {
   "cell_type": "markdown",
   "metadata": {},
   "source": [
    "Что здесь происходит по шагам?\n",
    "\n",
    "1. Помещаю 738 в функцию sum_digits. Это число больше 10, поэтому перехожу к else. \n",
    "2. Разбиваю 738 на 73 и 8. Так завершается первый локальный фрейм (local frame).\n",
    "3. Вновь передаю в функцию sum_digits значение 73 (через sum_digits(all_but_last)). Теперь получаю как all_but_last уже 7, как last получаю 3. Это второй локальный фрейм.\n",
    "4. Опять передаю в sum_digits 7. Так как это число меньше 10, то возвращаю его как результат функции sum_digits. Это будет третий локальный фрейм.\n",
    "5. Теперь передаю в обратном порядке. От третьего фрейма во второй передаю 7, last там уже был определен как 3. Сумма равна 10, которую теперь передаю из второго фрейма в первый как результат функции sum_digits(all_but_last).\n",
    "6. На этом последнем шаге суммирую 10 из sum_digits(all_but_last) и last = 8.\n",
    "\n",
    "Вот еще один пример на рекурсию - подсчет факториала."
   ]
  },
  {
   "cell_type": "code",
   "execution_count": 24,
   "metadata": {},
   "outputs": [],
   "source": [
    "def fact(n):\n",
    "    if n == 1:\n",
    "        return 1\n",
    "    else:\n",
    "        return n * fact(n-1)"
   ]
  },
  {
   "cell_type": "code",
   "execution_count": 25,
   "metadata": {},
   "outputs": [
    {
     "data": {
      "text/plain": [
       "24"
      ]
     },
     "execution_count": 25,
     "metadata": {},
     "output_type": "execute_result"
    }
   ],
   "source": [
    "fact(4)"
   ]
  },
  {
   "cell_type": "code",
   "execution_count": 26,
   "metadata": {},
   "outputs": [
    {
     "name": "stdout",
     "output_type": "stream",
     "text": [
      "2013\n",
      "201\n",
      "20\n",
      "2\n",
      "20\n",
      "201\n",
      "2013\n"
     ]
    }
   ],
   "source": [
    "# использование print с рекурсией\n",
    "def cascade(n):\n",
    "        \"\"\"Print a cascade of prefixes of n.\"\"\"\n",
    "        if n < 10:\n",
    "            print(n)\n",
    "        else:\n",
    "            print(n)\n",
    "            cascade(n//10)\n",
    "            print(n)\n",
    "\n",
    "cascade(2013)"
   ]
  },
  {
   "cell_type": "markdown",
   "metadata": {},
   "source": [
    "# Типы данных в Python\n",
    "\n"
   ]
  },
  {
   "cell_type": "code",
   "execution_count": 27,
   "metadata": {},
   "outputs": [
    {
     "name": "stdout",
     "output_type": "stream",
     "text": [
      "[10, 20]\n",
      "<class 'list'>\n"
     ]
    }
   ],
   "source": [
    "# list\n",
    "pair = [10, 20]\n",
    "print(pair)\n",
    "print(type(pair))"
   ]
  },
  {
   "cell_type": "code",
   "execution_count": 28,
   "metadata": {},
   "outputs": [
    {
     "name": "stdout",
     "output_type": "stream",
     "text": [
      "10 20\n"
     ]
    }
   ],
   "source": [
    "x, y = pair\n",
    "print(x, y)"
   ]
  },
  {
   "cell_type": "code",
   "execution_count": 29,
   "metadata": {},
   "outputs": [
    {
     "name": "stdout",
     "output_type": "stream",
     "text": [
      "10 20\n"
     ]
    }
   ],
   "source": [
    "print(pair[0], pair[1])"
   ]
  },
  {
   "cell_type": "code",
   "execution_count": 30,
   "metadata": {},
   "outputs": [
    {
     "data": {
      "text/plain": [
       "2"
      ]
     },
     "execution_count": 30,
     "metadata": {},
     "output_type": "execute_result"
    }
   ],
   "source": [
    "len(pair)"
   ]
  },
  {
   "cell_type": "code",
   "execution_count": 31,
   "metadata": {},
   "outputs": [
    {
     "data": {
      "text/plain": [
       "[2, 7, 1, 8, 2, 8, 1, 8, 2, 8]"
      ]
     },
     "execution_count": 31,
     "metadata": {},
     "output_type": "execute_result"
    }
   ],
   "source": [
    "# умножение, суммирование для списков\n",
    "digits = [1, 8, 2, 8]\n",
    "[2, 7] + digits*2"
   ]
  },
  {
   "cell_type": "code",
   "execution_count": 32,
   "metadata": {},
   "outputs": [
    {
     "name": "stdout",
     "output_type": "stream",
     "text": [
      "[30, 40]\n",
      "30\n"
     ]
    }
   ],
   "source": [
    "# вложенные списки\n",
    "pairs = [[10, 20], [30, 40]]\n",
    "print(pairs[1])\n",
    "print(pairs[1][0])"
   ]
  },
  {
   "cell_type": "code",
   "execution_count": 33,
   "metadata": {},
   "outputs": [
    {
     "data": {
      "text/plain": [
       "('the', 1, ('and', 'only'))"
      ]
     },
     "execution_count": 33,
     "metadata": {},
     "output_type": "execute_result"
    }
   ],
   "source": [
    "# кортежи, неизменяемая последовательность\n",
    "\n",
    "(\"the\", 1, (\"and\", \"only\"))"
   ]
  },
  {
   "cell_type": "code",
   "execution_count": 34,
   "metadata": {},
   "outputs": [
    {
     "name": "stdout",
     "output_type": "stream",
     "text": [
      "8\n",
      "down\n",
      "2\n",
      "4\n"
     ]
    }
   ],
   "source": [
    "# операции с кортежами\n",
    "code = (\"up\", \"up\", \"down\", \"down\") + (\"left\", \"right\")*2\n",
    "print(len(code))\n",
    "print(code[3])\n",
    "print(code.count(\"down\"))\n",
    "print(code.index(\"left\"))"
   ]
  },
  {
   "cell_type": "code",
   "execution_count": 35,
   "metadata": {},
   "outputs": [],
   "source": [
    "# словари\n",
    "numerals = {'I': 1.0, 'V': 5, 'X': 10}"
   ]
  },
  {
   "cell_type": "code",
   "execution_count": 36,
   "metadata": {},
   "outputs": [
    {
     "data": {
      "text/plain": [
       "10"
      ]
     },
     "execution_count": 36,
     "metadata": {},
     "output_type": "execute_result"
    }
   ],
   "source": [
    "# операции со словарем\n",
    "numerals['X']"
   ]
  },
  {
   "cell_type": "code",
   "execution_count": 37,
   "metadata": {},
   "outputs": [
    {
     "data": {
      "text/plain": [
       "{'I': 1, 'V': 5, 'X': 10, 'L': 50}"
      ]
     },
     "execution_count": 37,
     "metadata": {},
     "output_type": "execute_result"
    }
   ],
   "source": [
    "numerals['I'] = 1\n",
    "numerals['L'] = 50\n",
    "numerals"
   ]
  },
  {
   "cell_type": "code",
   "execution_count": 38,
   "metadata": {},
   "outputs": [
    {
     "name": "stdout",
     "output_type": "stream",
     "text": [
      "dict_keys(['I', 'V', 'X', 'L'])\n",
      "dict_values([1, 5, 10, 50])\n",
      "dict_items([('I', 1), ('V', 5), ('X', 10), ('L', 50)])\n"
     ]
    }
   ],
   "source": [
    "# возвращает ключи\n",
    "print(numerals.keys())\n",
    "\n",
    "# возвращает значения\n",
    "print(numerals.values())\n",
    "\n",
    "print(numerals.items())"
   ]
  },
  {
   "cell_type": "code",
   "execution_count": 39,
   "metadata": {},
   "outputs": [
    {
     "data": {
      "text/plain": [
       "{3: 9, 4: 16, 5: 25}"
      ]
     },
     "execution_count": 39,
     "metadata": {},
     "output_type": "execute_result"
    }
   ],
   "source": [
    "# преобразование списка в словарь\n",
    "dict([(3, 9), (4, 16), (5, 25)])"
   ]
  },
  {
   "cell_type": "code",
   "execution_count": 40,
   "metadata": {},
   "outputs": [
    {
     "data": {
      "text/plain": [
       "{3: 9, 4: 16, 5: 25}"
      ]
     },
     "execution_count": 40,
     "metadata": {},
     "output_type": "execute_result"
    }
   ],
   "source": [
    "# создание словаря генератором\n",
    "{x: x*x for x in range(3, 6)}"
   ]
  },
  {
   "cell_type": "code",
   "execution_count": 41,
   "metadata": {},
   "outputs": [
    {
     "data": {
      "text/plain": [
       "{1, 2, 3, 4}"
      ]
     },
     "execution_count": 41,
     "metadata": {},
     "output_type": "execute_result"
    }
   ],
   "source": [
    "# множества (set) не содержат повторений\n",
    "s = {3, 2, 1, 4, 4}\n",
    "s"
   ]
  },
  {
   "cell_type": "code",
   "execution_count": 42,
   "metadata": {},
   "outputs": [
    {
     "name": "stdout",
     "output_type": "stream",
     "text": [
      "True\n",
      "4\n",
      "{1, 2, 3, 4, 5}\n",
      "{3, 4}\n"
     ]
    }
   ],
   "source": [
    "# операции с множеством\n",
    "print(3 in s)\n",
    "print(len(s))\n",
    "print(s.union({1, 5}))\n",
    "print(s.intersection({6, 5, 4, 3}))"
   ]
  },
  {
   "cell_type": "markdown",
   "metadata": {},
   "source": [
    "# Циклы"
   ]
  },
  {
   "cell_type": "code",
   "execution_count": 43,
   "metadata": {},
   "outputs": [
    {
     "data": {
      "text/plain": [
       "2"
      ]
     },
     "execution_count": 43,
     "metadata": {},
     "output_type": "execute_result"
    }
   ],
   "source": [
    "# реализация счетчика с помощью цикла while\n",
    "def count(s, value):\n",
    "    total, index = 0, 0\n",
    "    while index < len(s):\n",
    "        if s[index] == value:\n",
    "            total = total + 1\n",
    "        index = index + 1\n",
    "    return total\n",
    "\n",
    "count(digits, 8)"
   ]
  },
  {
   "cell_type": "code",
   "execution_count": 44,
   "metadata": {},
   "outputs": [
    {
     "data": {
      "text/plain": [
       "2"
      ]
     },
     "execution_count": 44,
     "metadata": {},
     "output_type": "execute_result"
    }
   ],
   "source": [
    "# реализация счетчика с помощью цикла for\n",
    "def count(s, value):\n",
    "    total = 0\n",
    "    for elem in s:\n",
    "        if elem == value:\n",
    "            total = total + 1\n",
    "    return total\n",
    "\n",
    "count(digits, 8)"
   ]
  },
  {
   "cell_type": "code",
   "execution_count": 45,
   "metadata": {},
   "outputs": [
    {
     "name": "stdout",
     "output_type": "stream",
     "text": [
      "1 2\n",
      "2 2\n",
      "2 3\n",
      "4 4\n"
     ]
    }
   ],
   "source": [
    "# распаковка с помощью for\n",
    "pairs = [[1, 2], [2, 2], [2, 3], [4, 4]]\n",
    "for x, y in pairs:\n",
    "    print(x, y)"
   ]
  },
  {
   "cell_type": "code",
   "execution_count": 46,
   "metadata": {},
   "outputs": [
    {
     "data": {
      "text/plain": [
       "[5, 6, 7]"
      ]
     },
     "execution_count": 46,
     "metadata": {},
     "output_type": "execute_result"
    }
   ],
   "source": [
    "# зада. диапазоны значений\n",
    "list(range(5, 8))"
   ]
  },
  {
   "cell_type": "code",
   "execution_count": 47,
   "metadata": {},
   "outputs": [
    {
     "name": "stdout",
     "output_type": "stream",
     "text": [
      "Go Bears!\n",
      "Go Bears!\n",
      "Go Bears!\n"
     ]
    }
   ],
   "source": [
    "# range часто задает количество повторений в цикле\n",
    "# подчеркивание является именем, но дополнительно \n",
    "# указывает, что нигде далее по коду это имя не будет встречаться\n",
    "for _ in range(3):\n",
    "    print('Go Bears!') "
   ]
  },
  {
   "cell_type": "code",
   "execution_count": 48,
   "metadata": {},
   "outputs": [
    {
     "data": {
      "text/plain": [
       "[2, 4, 6, 8, 10]"
      ]
     },
     "execution_count": 48,
     "metadata": {},
     "output_type": "execute_result"
    }
   ],
   "source": [
    "# генератор заменяет for\n",
    "odds = [1, 3, 5, 7, 9]\n",
    "[x+1 for x in odds]"
   ]
  },
  {
   "cell_type": "code",
   "execution_count": 49,
   "metadata": {},
   "outputs": [
    {
     "data": {
      "text/plain": [
       "[1, 5]"
      ]
     },
     "execution_count": 49,
     "metadata": {},
     "output_type": "execute_result"
    }
   ],
   "source": [
    "# генератор с применение if\n",
    "[x for x in odds if 25% x == 0]"
   ]
  },
  {
   "cell_type": "code",
   "execution_count": 50,
   "metadata": {},
   "outputs": [],
   "source": [
    "# в генераторе может быть и функция\n",
    "def perimeter(width, height):\n",
    "    return 2 * width + 2 * height\n",
    "\n",
    "def minimum_perimeter(area):\n",
    "    heights = divisors(area)\n",
    "    perimeters = [perimeter(width(area, h), h) for h in heights]\n",
    "    return min(perimeters)\n",
    "\n",
    "# еще один пример\n",
    "def keep_if(filter_in, s):\n",
    "    return [x for x in s if filter_fn(x)]"
   ]
  },
  {
   "cell_type": "markdown",
   "metadata": {},
   "source": [
    "# String (строки)"
   ]
  },
  {
   "cell_type": "code",
   "execution_count": 51,
   "metadata": {},
   "outputs": [
    {
     "name": "stdout",
     "output_type": "stream",
     "text": [
      "8\n",
      "k\n"
     ]
    }
   ],
   "source": [
    "# string\n",
    "sity = 'Berkeley'\n",
    "print(len(sity))\n",
    "print(sity[3])"
   ]
  },
  {
   "cell_type": "code",
   "execution_count": 52,
   "metadata": {},
   "outputs": [
    {
     "name": "stdout",
     "output_type": "stream",
     "text": [
      "Berkeley, CA\n",
      "Shabu Shabu \n"
     ]
    }
   ],
   "source": [
    "# операции с строками\n",
    "print('Berkeley' + ', CA')\n",
    "print('Shabu ' * 2)"
   ]
  },
  {
   "cell_type": "markdown",
   "metadata": {},
   "source": [
    "# Объекты\n",
    "\n",
    "Описание из учебника: \"Объекты объединяют значения данных с поведением. Объекты представляют информацию, но также ведут себя подобно вещам, которые они представляют. Логика того, как объект взаимодействует с другими объектами, объединяется вместе с информацией, которая кодирует значение объекта. Когда объект печатается, он знает, как записать себя в тексте. Если объект состоит из частей, он знает, как раскрыть эти части по требованию. Объекты - это одновременно информация и процессы, объединенные вместе для представления свойств, взаимодействий и поведения сложных объектов.\"."
   ]
  },
  {
   "cell_type": "markdown",
   "metadata": {},
   "source": [
    "\"Дата имени привязана к классу. Как мы уже видели, класс представляет собой своего рода ценность. Отдельные даты называются экземплярами этого класса. Экземпляры могут быть созданы путем вызова класса по аргументам, которые характеризуют экземпляр\"."
   ]
  },
  {
   "cell_type": "code",
   "execution_count": 53,
   "metadata": {},
   "outputs": [
    {
     "name": "stdout",
     "output_type": "stream",
     "text": [
      "6 days, 0:00:00\n"
     ]
    }
   ],
   "source": [
    "# пример\n",
    "from datetime import date\n",
    "\n",
    "tues = date(2014, 5, 13)\n",
    "print(date(2014, 5, 19) - tues)"
   ]
  },
  {
   "cell_type": "markdown",
   "metadata": {},
   "source": [
    "\"Объекты имеют атрибуты, которые являются именованными значениями, являющимися частью объекта. В Python, как и во многих других языках программирования, мы используем точечную нотацию для обозначения атрибута объекта.\"\n",
    "\n",
    "expression . name\n",
    "\n",
    "Здесь name - это атрибут объекта."
   ]
  },
  {
   "cell_type": "code",
   "execution_count": 54,
   "metadata": {},
   "outputs": [
    {
     "data": {
      "text/plain": [
       "2014"
      ]
     },
     "execution_count": 54,
     "metadata": {},
     "output_type": "execute_result"
    }
   ],
   "source": [
    "# пример атрибута объекта\n",
    "tues.year"
   ]
  },
  {
   "cell_type": "markdown",
   "metadata": {},
   "source": [
    "Объекты могут также иметь методы, которые ведут себя как функции. "
   ]
  },
  {
   "cell_type": "code",
   "execution_count": 55,
   "metadata": {},
   "outputs": [
    {
     "data": {
      "text/plain": [
       "'Tuesday, May 13'"
      ]
     },
     "execution_count": 55,
     "metadata": {},
     "output_type": "execute_result"
    }
   ],
   "source": [
    "# пример метода\n",
    "tues.strftime('%A, %B %d')"
   ]
  },
  {
   "cell_type": "markdown",
   "metadata": {},
   "source": [
    "# Создание класса"
   ]
  },
  {
   "cell_type": "markdown",
   "metadata": {},
   "source": [
    "Общая модель\n",
    "\n",
    "class name:\n",
    "    suite\n",
    "\n",
    "\"Оператор suite класса содержит операторы def, которые определяют новые методы для объектов этого класса. Метод, который инициализирует объекты, имеет специальное имя в Python, __init__ (два подчеркивания с каждой стороны слова \"init\"), и называется конструктором для класса\"."
   ]
  },
  {
   "cell_type": "code",
   "execution_count": 56,
   "metadata": {},
   "outputs": [],
   "source": [
    "# пример класса только с атрибутами\n",
    "\n",
    "class Account:\n",
    "    def __init__(self, account_holder):\n",
    "        self.balance = 0\n",
    "        self.holder = account_holder"
   ]
  },
  {
   "cell_type": "markdown",
   "metadata": {},
   "source": [
    "\"Метод __init__ для учетной записи имеет два формальных параметра. Первый из них, self, привязан к недавно созданному объекту учетной записи. Второй параметр, account_holder, привязан к аргументу, передаваемому классу при его вызове для создания экземпляра.\n",
    "\n",
    "Конструктор привязывает баланс имени атрибута экземпляра к 0. Он также привязывает атрибут name holder к значению имени account_holder. Формальный параметр account_holder - это локальное имя в методе __init__. С другой стороны, держатель имени, привязанный с помощью оператора окончательного присваивания, сохраняется, поскольку он хранится как атрибут self с использованием точечной нотации.\""
   ]
  },
  {
   "cell_type": "code",
   "execution_count": 57,
   "metadata": {},
   "outputs": [],
   "source": [
    "a = Account('Kirk')"
   ]
  },
  {
   "cell_type": "markdown",
   "metadata": {},
   "source": [
    "\"Этот \"вызов\" класса Account создает новый объект, являющийся экземпляром Account, затем вызывает функцию конструктора __init__ с двумя аргументами: вновь созданный объект и строка 'Kirk'. По соглашению мы используем имя параметра self для первого аргумента конструктора, поскольку оно привязано к создаваемому объекту. Это соглашение принято практически во всем коде Python.\""
   ]
  },
  {
   "cell_type": "code",
   "execution_count": 58,
   "metadata": {},
   "outputs": [
    {
     "data": {
      "text/plain": [
       "0"
      ]
     },
     "execution_count": 58,
     "metadata": {},
     "output_type": "execute_result"
    }
   ],
   "source": [
    "a.balance"
   ]
  },
  {
   "cell_type": "code",
   "execution_count": 59,
   "metadata": {},
   "outputs": [
    {
     "data": {
      "text/plain": [
       "'Kirk'"
      ]
     },
     "execution_count": 59,
     "metadata": {},
     "output_type": "execute_result"
    }
   ],
   "source": [
    "a.holder"
   ]
  },
  {
   "cell_type": "code",
   "execution_count": 60,
   "metadata": {},
   "outputs": [],
   "source": [
    "# пример класса с атрибутами и методами\n",
    "class Account:\n",
    "    def __init__(self, account_holder):\n",
    "        self.balance = 0\n",
    "        self.holder = account_holder\n",
    "    def deposit(self, amount):\n",
    "        self.balance = self.balance + amount\n",
    "        return self.balance\n",
    "    def withdraw(self, amount):\n",
    "        if amount > self.balance:\n",
    "            return 'Insufficient funds'\n",
    "        self.balance = self.balance - amount\n",
    "        return self.balance"
   ]
  },
  {
   "cell_type": "code",
   "execution_count": 61,
   "metadata": {},
   "outputs": [
    {
     "name": "stdout",
     "output_type": "stream",
     "text": [
      "100\n",
      "10\n",
      "Insufficient funds\n",
      "Spock\n"
     ]
    }
   ],
   "source": [
    "spock_account = Account('Spock')\n",
    "print(spock_account.deposit(100))\n",
    "print(spock_account.withdraw(90))\n",
    "print(spock_account.withdraw(90))\n",
    "print(spock_account.holder)"
   ]
  },
  {
   "cell_type": "markdown",
   "metadata": {},
   "source": [
    "\"Когда метод вызывается для объекта, этот объект неявно передается в качестве первого аргумента методу. То есть объект, представляющий собой значение expression слева от точки, автоматически передается в качестве первого аргумента методу, названному в правой части выражения с точкой. В результате объект привязывается к параметру self.\n",
    "\""
   ]
  },
  {
   "cell_type": "code",
   "execution_count": 62,
   "metadata": {},
   "outputs": [],
   "source": [
    "# пример на атрибут класса\n",
    "class Account:\n",
    "    interest = 0.02 # атрибут класса\n",
    "    def __init__(self, account_holder):\n",
    "        self.balance = 0\n",
    "        self.holder = account_holder\n",
    "    # ниже могу быть добавлены дополнительные методы"
   ]
  },
  {
   "cell_type": "code",
   "execution_count": 63,
   "metadata": {},
   "outputs": [],
   "source": [
    "# пример на наследование классов\n",
    "# начинается с повторения класса Account\n",
    "class Account:\n",
    "        \"\"\"A bank account that has a non-negative balance.\"\"\"\n",
    "        interest = 0.02\n",
    "        def __init__(self, account_holder):\n",
    "            self.balance = 0\n",
    "            self.holder = account_holder\n",
    "        def deposit(self, amount):\n",
    "            \"\"\"Increase the account balance by amount and return the new balance.\"\"\"\n",
    "            self.balance = self.balance + amount\n",
    "            return self.balance\n",
    "        def withdraw(self, amount):\n",
    "            \"\"\"Decrease the account balance by amount and return the new balance.\"\"\"\n",
    "            if amount > self.balance:\n",
    "                return 'Insufficient funds'\n",
    "            self.balance = self.balance - amount\n",
    "            return self.balance"
   ]
  },
  {
   "cell_type": "code",
   "execution_count": 64,
   "metadata": {},
   "outputs": [],
   "source": [
    "# дочерний класс\n",
    "# родительский помещаем \n",
    "# после имени дочернего класса\n",
    "class CheckingAccount(Account):\n",
    "    withdraw_charge = 1\n",
    "    interest = 0.01  # в дочернем классе можно изменить атрибут родительского\n",
    "    def withdraw(self, amount):  # в дочернем классе также можно изменить метод родительского\n",
    "        return Account.withdraw(self, amount + self.withdraw_charge)"
   ]
  },
  {
   "cell_type": "code",
   "execution_count": 65,
   "metadata": {},
   "outputs": [
    {
     "data": {
      "text/plain": [
       "10"
      ]
     },
     "execution_count": 65,
     "metadata": {},
     "output_type": "execute_result"
    }
   ],
   "source": [
    "checking = CheckingAccount('Sam')\n",
    "checking.deposit(10)  # этот метод прямо берем из родительского класса"
   ]
  },
  {
   "cell_type": "code",
   "execution_count": 66,
   "metadata": {},
   "outputs": [
    {
     "data": {
      "text/plain": [
       "4"
      ]
     },
     "execution_count": 66,
     "metadata": {},
     "output_type": "execute_result"
    }
   ],
   "source": [
    "checking.withdraw(5)"
   ]
  },
  {
   "cell_type": "markdown",
   "metadata": {},
   "source": [
    "# Полезные мелочи"
   ]
  },
  {
   "cell_type": "code",
   "execution_count": 67,
   "metadata": {},
   "outputs": [
    {
     "data": {
      "text/plain": [
       "[(1, 1), (1, 2), (1, 3), (2, 1), (2, 2), (2, 3), (3, 1), (3, 2), (3, 3)]"
      ]
     },
     "execution_count": 67,
     "metadata": {},
     "output_type": "execute_result"
    }
   ],
   "source": [
    "# все пары\n",
    "def all_pairs(s):\n",
    "    for item1 in s:\n",
    "        for item2 in s:\n",
    "            yield (item1, item2)\n",
    "\n",
    "list(all_pairs([1, 2, 3]))"
   ]
  },
  {
   "cell_type": "markdown",
   "metadata": {},
   "source": [
    "Принципы тестирования на ошибки (дебагинг)\n",
    "\n",
    "1. Тестируй последовательно, небольшими кусочками написанного кода.\n",
    "2. Изолируй ошибку. Разбей код на небольшие фрагменты.\n",
    "3. Проверь свои предположения. Надо проверить те идеи, тот порядок, на основании которых писал код.\n",
    "4. Попроси совета."
   ]
  }
 ],
 "metadata": {
  "interpreter": {
   "hash": "32f617b27285e45b0350f86677fcd07aea2f1d1cb6645fbaf04dfa1d611856cf"
  },
  "kernelspec": {
   "display_name": "Python 3.10.2 64-bit (windows store)",
   "language": "python",
   "name": "python3"
  },
  "language_info": {
   "codemirror_mode": {
    "name": "ipython",
    "version": 3
   },
   "file_extension": ".py",
   "mimetype": "text/x-python",
   "name": "python",
   "nbconvert_exporter": "python",
   "pygments_lexer": "ipython3",
   "version": "3.9.7"
  },
  "orig_nbformat": 4
 },
 "nbformat": 4,
 "nbformat_minor": 2
}
